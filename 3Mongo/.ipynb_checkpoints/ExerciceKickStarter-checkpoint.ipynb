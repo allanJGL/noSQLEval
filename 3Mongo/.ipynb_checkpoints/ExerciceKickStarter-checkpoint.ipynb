{
 "cells": [
  {
   "cell_type": "markdown",
   "metadata": {},
   "source": [
    "#  Consignes\n",
    "\n",
    "## Description\n",
    "\n",
    "Ouvrir le fichier ks-projects-201801.csv, il recense environ 100 000 projets KickStarter. Intégrer les données directement avec L'API Python dans une base de données Mongo. \n",
    "\n",
    "Il conviendra de bien spécifier manuellement l'ID du document. Pensez aussi à bien formatter le type des données pour profiter des méthodes implémentées par Mongo. L'ensemble de données n'est pas forcément nécessaire, c'est à vous de créer votre modèle de données.\n",
    "\n",
    "## Questions\n",
    "\n",
    "- 1) Récupérer les 5 projets ayant reçu le plus de promesse de dons.\n",
    "- 2) Compter le nombre de projets ayant atteint leur but.\n",
    "- 3) Compter le nombre de projets pour chaque catégorie.\n",
    "- 4) Compter le nombre de projets français ayant été instanciés avant 2016.\n",
    "- 5) Récupérer les projets américains ayant demandé plus de 200 000 dollars.\n",
    "- 6) Compter le nombre de projet ayant \"Sport\" dans leur nom"
   ]
  },
  {
   "cell_type": "code",
   "execution_count": 1,
   "metadata": {},
   "outputs": [],
   "source": [
    "import pandas as pd\n",
    "import pymongo"
   ]
  },
  {
   "cell_type": "code",
   "execution_count": 2,
   "metadata": {},
   "outputs": [],
   "source": [
    "from pymongo import MongoClient\n",
    "\n",
    "client = MongoClient(\"mongo\")\n",
    "\n",
    "database = client.exercices\n",
    "\n",
    "collection = database['kickstarter']"
   ]
  },
  {
   "cell_type": "code",
   "execution_count": 3,
   "metadata": {},
   "outputs": [
    {
     "name": "stderr",
     "output_type": "stream",
     "text": [
      "/root/.local/share/virtualenvs/code-AFz48Hjb/lib/python3.6/site-packages/IPython/core/interactiveshell.py:3072: DtypeWarning: Columns (6,8,10,12) have mixed types. Specify dtype option on import or set low_memory=False.\n",
      "  interactivity=interactivity, compiler=compiler, result=result)\n"
     ]
    },
    {
     "data": {
      "text/html": [
       "<div>\n",
       "<style>\n",
       "    .dataframe thead tr:only-child th {\n",
       "        text-align: right;\n",
       "    }\n",
       "\n",
       "    .dataframe thead th {\n",
       "        text-align: left;\n",
       "    }\n",
       "\n",
       "    .dataframe tbody tr th {\n",
       "        vertical-align: top;\n",
       "    }\n",
       "</style>\n",
       "<table border=\"1\" class=\"dataframe\">\n",
       "  <thead>\n",
       "    <tr style=\"text-align: right;\">\n",
       "      <th></th>\n",
       "      <th>ID</th>\n",
       "      <th>name</th>\n",
       "      <th>category</th>\n",
       "      <th>main_category</th>\n",
       "      <th>currency</th>\n",
       "      <th>deadline</th>\n",
       "      <th>goal</th>\n",
       "      <th>launched</th>\n",
       "      <th>pledged</th>\n",
       "      <th>state</th>\n",
       "      <th>backers</th>\n",
       "      <th>country</th>\n",
       "      <th>usd pledged</th>\n",
       "      <th>usd_pledged_real</th>\n",
       "    </tr>\n",
       "  </thead>\n",
       "  <tbody>\n",
       "    <tr>\n",
       "      <th>0</th>\n",
       "      <td>872782264</td>\n",
       "      <td>Scott Cooper's Solo CD \"A Leg Trick\" (Canceled)</td>\n",
       "      <td>Rock</td>\n",
       "      <td>Music</td>\n",
       "      <td>USD</td>\n",
       "      <td>2011-09-16</td>\n",
       "      <td>2000</td>\n",
       "      <td>2011-08-17 06:31:31</td>\n",
       "      <td>1145</td>\n",
       "      <td>canceled</td>\n",
       "      <td>24</td>\n",
       "      <td>US</td>\n",
       "      <td>1145</td>\n",
       "      <td>1145.000000</td>\n",
       "    </tr>\n",
       "    <tr>\n",
       "      <th>1</th>\n",
       "      <td>1326492673</td>\n",
       "      <td>Ohceola jewelry</td>\n",
       "      <td>Fashion</td>\n",
       "      <td>Fashion</td>\n",
       "      <td>USD</td>\n",
       "      <td>2012-08-22</td>\n",
       "      <td>18000</td>\n",
       "      <td>2012-07-23 20:46:48</td>\n",
       "      <td>1851</td>\n",
       "      <td>failed</td>\n",
       "      <td>28</td>\n",
       "      <td>US</td>\n",
       "      <td>1851</td>\n",
       "      <td>1851.000000</td>\n",
       "    </tr>\n",
       "    <tr>\n",
       "      <th>2</th>\n",
       "      <td>1688410639</td>\n",
       "      <td>Sluff Off &amp; Harald: Two latest EGGs are Classi...</td>\n",
       "      <td>Tabletop Games</td>\n",
       "      <td>Games</td>\n",
       "      <td>USD</td>\n",
       "      <td>2016-07-19</td>\n",
       "      <td>2000</td>\n",
       "      <td>2016-07-01 21:55:54</td>\n",
       "      <td>7534</td>\n",
       "      <td>successful</td>\n",
       "      <td>254</td>\n",
       "      <td>US</td>\n",
       "      <td>3796</td>\n",
       "      <td>7534.000000</td>\n",
       "    </tr>\n",
       "    <tr>\n",
       "      <th>3</th>\n",
       "      <td>156812982</td>\n",
       "      <td>SketchPlanner: Create and Plan- all in one bea...</td>\n",
       "      <td>Art Books</td>\n",
       "      <td>Publishing</td>\n",
       "      <td>USD</td>\n",
       "      <td>2017-09-27</td>\n",
       "      <td>13000</td>\n",
       "      <td>2017-08-28 15:47:02</td>\n",
       "      <td>16298</td>\n",
       "      <td>successful</td>\n",
       "      <td>367</td>\n",
       "      <td>US</td>\n",
       "      <td>2670</td>\n",
       "      <td>16298.000000</td>\n",
       "    </tr>\n",
       "    <tr>\n",
       "      <th>4</th>\n",
       "      <td>1835968190</td>\n",
       "      <td>Proven sales with custom motorcycle accessories</td>\n",
       "      <td>Sculpture</td>\n",
       "      <td>Art</td>\n",
       "      <td>CAD</td>\n",
       "      <td>2016-02-24</td>\n",
       "      <td>5000</td>\n",
       "      <td>2016-01-25 17:37:10</td>\n",
       "      <td>1</td>\n",
       "      <td>failed</td>\n",
       "      <td>1</td>\n",
       "      <td>CA</td>\n",
       "      <td>0.708148</td>\n",
       "      <td>0.738225</td>\n",
       "    </tr>\n",
       "  </tbody>\n",
       "</table>\n",
       "</div>"
      ],
      "text/plain": [
       "           ID                                               name  \\\n",
       "0   872782264    Scott Cooper's Solo CD \"A Leg Trick\" (Canceled)   \n",
       "1  1326492673                                    Ohceola jewelry   \n",
       "2  1688410639  Sluff Off & Harald: Two latest EGGs are Classi...   \n",
       "3   156812982  SketchPlanner: Create and Plan- all in one bea...   \n",
       "4  1835968190    Proven sales with custom motorcycle accessories   \n",
       "\n",
       "         category main_category currency    deadline   goal  \\\n",
       "0            Rock         Music      USD  2011-09-16   2000   \n",
       "1         Fashion       Fashion      USD  2012-08-22  18000   \n",
       "2  Tabletop Games         Games      USD  2016-07-19   2000   \n",
       "3       Art Books    Publishing      USD  2017-09-27  13000   \n",
       "4       Sculpture           Art      CAD  2016-02-24   5000   \n",
       "\n",
       "              launched pledged       state backers country usd pledged  \\\n",
       "0  2011-08-17 06:31:31    1145    canceled      24      US        1145   \n",
       "1  2012-07-23 20:46:48    1851      failed      28      US        1851   \n",
       "2  2016-07-01 21:55:54    7534  successful     254      US        3796   \n",
       "3  2017-08-28 15:47:02   16298  successful     367      US        2670   \n",
       "4  2016-01-25 17:37:10       1      failed       1      CA    0.708148   \n",
       "\n",
       "   usd_pledged_real  \n",
       "0       1145.000000  \n",
       "1       1851.000000  \n",
       "2       7534.000000  \n",
       "3      16298.000000  \n",
       "4          0.738225  "
      ]
     },
     "execution_count": 3,
     "metadata": {},
     "output_type": "execute_result"
    }
   ],
   "source": [
    "df_ks = pd.read_csv(\"./data/ks-projects-201801-sample.csv\")\n",
    "df_ks.head()"
   ]
  },
  {
   "cell_type": "markdown",
   "metadata": {},
   "source": [
    "Ce warning intervient lorsque pandas n'arrive pas à inférer le type de données. Il est sympa il précise les colones 6,8,10,12. "
   ]
  },
  {
   "cell_type": "code",
   "execution_count": 4,
   "metadata": {},
   "outputs": [
    {
     "data": {
      "text/plain": [
       "Index(['goal', 'pledged', 'backers', 'usd pledged'], dtype='object')"
      ]
     },
     "execution_count": 4,
     "metadata": {},
     "output_type": "execute_result"
    }
   ],
   "source": [
    "df_ks.columns[[6,8,10,12]]"
   ]
  },
  {
   "cell_type": "markdown",
   "metadata": {},
   "source": [
    "## Question 0"
   ]
  },
  {
   "cell_type": "markdown",
   "metadata": {},
   "source": [
    "### Netoyer les données"
   ]
  },
  {
   "cell_type": "code",
   "execution_count": 5,
   "metadata": {},
   "outputs": [],
   "source": [
    "df_ks = df_ks.dropna(subset=['launched'])\n",
    "df_ks.rename(columns={'ID':'_id'}, inplace=True)\n",
    "l_d =df_ks.to_dict(orient='records')"
   ]
  },
  {
   "cell_type": "markdown",
   "metadata": {
    "slideshow": {
     "slide_type": "slide"
    }
   },
   "source": [
    "### Importer les données"
   ]
  },
  {
   "cell_type": "code",
   "execution_count": 6,
   "metadata": {},
   "outputs": [
    {
     "data": {
      "text/plain": [
       "<pymongo.results.InsertManyResult at 0x7ffaa55c0608>"
      ]
     },
     "execution_count": 6,
     "metadata": {},
     "output_type": "execute_result"
    }
   ],
   "source": [
    "collection.delete_many({})\n",
    "collection.insert_many(l_d)"
   ]
  },
  {
   "cell_type": "markdown",
   "metadata": {},
   "source": [
    "## Question 1  "
   ]
  },
  {
   "cell_type": "code",
   "execution_count": 7,
   "metadata": {},
   "outputs": [
    {
     "data": {
      "text/plain": [
       "[{'_id': 342886736,\n",
       "  'name': \"COOLEST COOLER: 21st Century Cooler that's Actually Cooler\",\n",
       "  'category': 'Product Design',\n",
       "  'main_category': 'Design',\n",
       "  'currency': 'USD',\n",
       "  'deadline': '2014-08-30',\n",
       "  'goal': '50000.0',\n",
       "  'launched': '2014-07-08 10:14:37',\n",
       "  'pledged': '13285226.36',\n",
       "  'state': 'successful',\n",
       "  'backers': '62642',\n",
       "  'country': 'US',\n",
       "  'usd pledged': '13285226.36',\n",
       "  'usd_pledged_real': 13285226.36},\n",
       " {'_id': 2103598555,\n",
       "  'name': 'Pebble 2, Time 2 + All-New Pebble Core',\n",
       "  'category': 'Product Design',\n",
       "  'main_category': 'Design',\n",
       "  'currency': 'USD',\n",
       "  'deadline': '2016-06-30',\n",
       "  'goal': '1000000.0',\n",
       "  'launched': '2016-05-24 15:49:52',\n",
       "  'pledged': '12779843.49',\n",
       "  'state': 'successful',\n",
       "  'backers': '66673',\n",
       "  'country': 'US',\n",
       "  'usd pledged': '12779843.49',\n",
       "  'usd_pledged_real': 12779843.49},\n",
       " {'_id': 1033978702,\n",
       "  'name': 'OUYA: A New Kind of Video Game Console',\n",
       "  'category': 'Gaming Hardware',\n",
       "  'main_category': 'Games',\n",
       "  'currency': 'USD',\n",
       "  'deadline': '2012-08-09',\n",
       "  'goal': '950000.0',\n",
       "  'launched': '2012-07-10 14:44:41',\n",
       "  'pledged': '8596474.58',\n",
       "  'state': 'successful',\n",
       "  'backers': '63416',\n",
       "  'country': 'US',\n",
       "  'usd pledged': '8596474.58',\n",
       "  'usd_pledged_real': 8596474.58},\n",
       " {'_id': 450099426,\n",
       "  'name': 'The Everyday Backpack, Tote, and Sling',\n",
       "  'category': 'Product Design',\n",
       "  'main_category': 'Design',\n",
       "  'currency': 'USD',\n",
       "  'deadline': '2016-09-10',\n",
       "  'goal': 500000.0,\n",
       "  'launched': '2016-07-13 00:47:35',\n",
       "  'pledged': 6565782.5,\n",
       "  'state': 'successful',\n",
       "  'backers': 26359,\n",
       "  'country': 'US',\n",
       "  'usd pledged': 1462611.0,\n",
       "  'usd_pledged_real': 6565782.5},\n",
       " {'_id': 1386523707,\n",
       "  'name': 'Fidget Cube: A Vinyl Desk Toy',\n",
       "  'category': 'Product Design',\n",
       "  'main_category': 'Design',\n",
       "  'currency': 'USD',\n",
       "  'deadline': '2016-10-20',\n",
       "  'goal': '15000.0',\n",
       "  'launched': '2016-08-30 22:02:09',\n",
       "  'pledged': '6465690.3',\n",
       "  'state': 'successful',\n",
       "  'backers': '154926',\n",
       "  'country': 'US',\n",
       "  'usd pledged': '13770.0',\n",
       "  'usd_pledged_real': 6465690.3}]"
      ]
     },
     "execution_count": 7,
     "metadata": {},
     "output_type": "execute_result"
    }
   ],
   "source": [
    "cur = collection.find().sort([(\"usd_pledged_real\", -1)]).limit(5)\n",
    "list(cur)"
   ]
  },
  {
   "cell_type": "markdown",
   "metadata": {},
   "source": [
    "## Question 2"
   ]
  },
  {
   "cell_type": "code",
   "execution_count": 8,
   "metadata": {},
   "outputs": [
    {
     "name": "stdout",
     "output_type": "stream",
     "text": [
      "53040\n"
     ]
    }
   ],
   "source": [
    "cur = collection.find({\"state\":\"successful\"}).count()\n",
    "print(cur)"
   ]
  },
  {
   "cell_type": "markdown",
   "metadata": {},
   "source": [
    "## Question 3"
   ]
  },
  {
   "cell_type": "code",
   "execution_count": 9,
   "metadata": {},
   "outputs": [
    {
     "data": {
      "text/plain": [
       "[{'_id': 'Music', 'projectsByCategory': 20593},\n",
       " {'_id': 'Games', 'projectsByCategory': 13991},\n",
       " {'_id': 'Publishing', 'projectsByCategory': 15906},\n",
       " {'_id': 'Technology', 'projectsByCategory': 12874},\n",
       " {'_id': 'Comics', 'projectsByCategory': 4139},\n",
       " {'_id': 'Crafts', 'projectsByCategory': 3463},\n",
       " {'_id': 'Food', 'projectsByCategory': 9807},\n",
       " {'_id': 'Art', 'projectsByCategory': 11260},\n",
       " {'_id': 'Journalism', 'projectsByCategory': 1808},\n",
       " {'_id': 'Photography', 'projectsByCategory': 4177},\n",
       " {'_id': 'Film & Video', 'projectsByCategory': 25331},\n",
       " {'_id': 'Indie Rock', 'projectsByCategory': 1},\n",
       " {'_id': 'Design', 'projectsByCategory': 11912},\n",
       " {'_id': 'Theater', 'projectsByCategory': 4305},\n",
       " {'_id': 'Fashion', 'projectsByCategory': 8944},\n",
       " {'_id': 'Dance', 'projectsByCategory': 1489}]"
      ]
     },
     "execution_count": 9,
     "metadata": {},
     "output_type": "execute_result"
    }
   ],
   "source": [
    "cur = collection.aggregate([{\"$group\":{\"_id\":\"$main_category\", \"projectsByCategory\" : {\"$sum\":1}}}])\n",
    "list(cur)"
   ]
  },
  {
   "cell_type": "markdown",
   "metadata": {},
   "source": [
    "## Question 4"
   ]
  },
  {
   "cell_type": "code",
   "execution_count": 10,
   "metadata": {},
   "outputs": [
    {
     "name": "stdout",
     "output_type": "stream",
     "text": [
      "330\n"
     ]
    }
   ],
   "source": [
    "cur = collection.find({\"$and\":[{\"country\": \"FR\"}, {\"launched\": {\"$lt\": \"2016-01-01 00:00:00\"}}]}).count()\n",
    "print(cur)"
   ]
  },
  {
   "cell_type": "markdown",
   "metadata": {},
   "source": [
    "## Question 5"
   ]
  },
  {
   "cell_type": "code",
   "execution_count": 11,
   "metadata": {},
   "outputs": [
    {
     "data": {
      "text/plain": [
       "[{'_id': 217543389,\n",
       "  'name': 'The uKeg Pressurized Growler for Fresh Beer',\n",
       "  'category': 'Drinks',\n",
       "  'main_category': 'Food',\n",
       "  'currency': 'USD',\n",
       "  'deadline': '2014-12-08',\n",
       "  'goal': 75000.0,\n",
       "  'launched': '2014-10-15 06:34:48',\n",
       "  'pledged': 1559525.68,\n",
       "  'state': 'successful',\n",
       "  'backers': 10293,\n",
       "  'country': 'US',\n",
       "  'usd pledged': 1559525.68,\n",
       "  'usd_pledged_real': 1559525.68},\n",
       " {'_id': 909248984,\n",
       "  'name': 'Redux COURG - Hybrid Watches with Missions to Tackle',\n",
       "  'category': 'Product Design',\n",
       "  'main_category': 'Design',\n",
       "  'currency': 'USD',\n",
       "  'deadline': '2015-08-20',\n",
       "  'goal': 30000.0,\n",
       "  'launched': '2015-07-21 19:01:41',\n",
       "  'pledged': 692912.0,\n",
       "  'state': 'successful',\n",
       "  'backers': 2200,\n",
       "  'country': 'US',\n",
       "  'usd pledged': 692912.0,\n",
       "  'usd_pledged_real': 692912.0},\n",
       " {'_id': 1688905333,\n",
       "  'name': 'Legion Solar - A Better Way to Energy Independence',\n",
       "  'category': 'Technology',\n",
       "  'main_category': 'Technology',\n",
       "  'currency': 'USD',\n",
       "  'deadline': '2016-06-18',\n",
       "  'goal': 50000.0,\n",
       "  'launched': '2016-05-03 16:00:22',\n",
       "  'pledged': 277524.0,\n",
       "  'state': 'successful',\n",
       "  'backers': 399,\n",
       "  'country': 'US',\n",
       "  'usd pledged': 277524.0,\n",
       "  'usd_pledged_real': 277524.0},\n",
       " {'_id': 447408232,\n",
       "  'name': 'Edyn: Welcome to the connected garden.',\n",
       "  'category': 'Hardware',\n",
       "  'main_category': 'Technology',\n",
       "  'currency': 'USD',\n",
       "  'deadline': '2014-07-08',\n",
       "  'goal': 100000.0,\n",
       "  'launched': '2014-06-05 13:50:13',\n",
       "  'pledged': 384201.63,\n",
       "  'state': 'successful',\n",
       "  'backers': 2336,\n",
       "  'country': 'US',\n",
       "  'usd pledged': 384201.63,\n",
       "  'usd_pledged_real': 384201.63},\n",
       " {'_id': 1919184836,\n",
       "  'name': 'Period Panties',\n",
       "  'category': 'Fashion',\n",
       "  'main_category': 'Fashion',\n",
       "  'currency': 'USD',\n",
       "  'deadline': '2014-03-09',\n",
       "  'goal': 10000.0,\n",
       "  'launched': '2014-02-07 15:32:50',\n",
       "  'pledged': 404763.3,\n",
       "  'state': 'successful',\n",
       "  'backers': 9550,\n",
       "  'country': 'US',\n",
       "  'usd pledged': 404763.3,\n",
       "  'usd_pledged_real': 404763.3},\n",
       " {'_id': 828587276,\n",
       "  'name': 'Shadowrun: Hong Kong',\n",
       "  'category': 'Video Games',\n",
       "  'main_category': 'Games',\n",
       "  'currency': 'USD',\n",
       "  'deadline': '2015-02-17',\n",
       "  'goal': 100000.0,\n",
       "  'launched': '2015-01-13 18:45:24',\n",
       "  'pledged': 1204726.47,\n",
       "  'state': 'successful',\n",
       "  'backers': 31497,\n",
       "  'country': 'US',\n",
       "  'usd pledged': 1204726.47,\n",
       "  'usd_pledged_real': 1204726.47},\n",
       " {'_id': 821637012,\n",
       "  'name': 'Kurt Vonnegut: Unstuck in Time',\n",
       "  'category': 'Documentary',\n",
       "  'main_category': 'Film & Video',\n",
       "  'currency': 'USD',\n",
       "  'deadline': '2015-03-10',\n",
       "  'goal': 250000.0,\n",
       "  'launched': '2015-02-10 14:05:34',\n",
       "  'pledged': 300319.0,\n",
       "  'state': 'successful',\n",
       "  'backers': 3755,\n",
       "  'country': 'US',\n",
       "  'usd pledged': 300319.0,\n",
       "  'usd_pledged_real': 300319.0},\n",
       " {'_id': 1075169964,\n",
       "  'name': 'Battle Worlds: Kronos - Turn-based strategy revisited',\n",
       "  'category': 'Video Games',\n",
       "  'main_category': 'Games',\n",
       "  'currency': 'USD',\n",
       "  'deadline': '2013-04-28',\n",
       "  'goal': 120000.0,\n",
       "  'launched': '2013-03-19 10:44:15',\n",
       "  'pledged': 260235.9,\n",
       "  'state': 'successful',\n",
       "  'backers': 7564,\n",
       "  'country': 'US',\n",
       "  'usd pledged': 260235.9,\n",
       "  'usd_pledged_real': 260235.9},\n",
       " {'_id': 1339618489,\n",
       "  'name': 'Hie Diaper Bag: Your New Best Friend',\n",
       "  'category': 'Product Design',\n",
       "  'main_category': 'Design',\n",
       "  'currency': 'USD',\n",
       "  'deadline': '2017-07-15',\n",
       "  'goal': 60000.0,\n",
       "  'launched': '2017-06-12 17:54:56',\n",
       "  'pledged': 395666.0,\n",
       "  'state': 'successful',\n",
       "  'backers': 1882,\n",
       "  'country': 'US',\n",
       "  'usd pledged': 259582.0,\n",
       "  'usd_pledged_real': 395666.0},\n",
       " {'_id': 1751772364,\n",
       "  'name': 'Hemingwrite - A Distraction Free Digital Typewriter',\n",
       "  'category': 'Product Design',\n",
       "  'main_category': 'Design',\n",
       "  'currency': 'USD',\n",
       "  'deadline': '2015-01-23',\n",
       "  'goal': 250000.0,\n",
       "  'launched': '2014-12-10 18:58:08',\n",
       "  'pledged': 342471.0,\n",
       "  'state': 'successful',\n",
       "  'backers': 1096,\n",
       "  'country': 'US',\n",
       "  'usd pledged': 342471.0,\n",
       "  'usd_pledged_real': 342471.0}]"
      ]
     },
     "execution_count": 11,
     "metadata": {},
     "output_type": "execute_result"
    }
   ],
   "source": [
    "cur = collection.find({\"$and\":[{\"country\": \"US\"}, {\"usd pledged\": {\"$gt\": 200000}}]}).limit(10)\n",
    "list(cur)"
   ]
  },
  {
   "cell_type": "markdown",
   "metadata": {},
   "source": [
    "## Question 6 "
   ]
  },
  {
   "cell_type": "code",
   "execution_count": 12,
   "metadata": {},
   "outputs": [
    {
     "name": "stdout",
     "output_type": "stream",
     "text": [
      "502\n"
     ]
    }
   ],
   "source": [
    "import re\n",
    "\n",
    "rgx = re.compile('.*sport.*', re.IGNORECASE)\n",
    "\n",
    "cur = collection.find({\"name\":rgx}).count()\n",
    "print(cur)"
   ]
  }
 ],
 "metadata": {
  "kernelspec": {
   "display_name": "Python 3",
   "language": "python",
   "name": "python3"
  },
  "language_info": {
   "codemirror_mode": {
    "name": "ipython",
    "version": 3
   },
   "file_extension": ".py",
   "mimetype": "text/x-python",
   "name": "python",
   "nbconvert_exporter": "python",
   "pygments_lexer": "ipython3",
   "version": "3.6.12"
  }
 },
 "nbformat": 4,
 "nbformat_minor": 2
}
